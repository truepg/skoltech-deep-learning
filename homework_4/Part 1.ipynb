{
  "nbformat": 4,
  "nbformat_minor": 0,
  "metadata": {
    "colab": {
      "name": "done miem copy of Part 1.ipynb",
      "provenance": [],
      "collapsed_sections": [
        "h2JmwQyTj7NX"
      ]
    },
    "kernelspec": {
      "name": "python3",
      "display_name": "Python 3"
    },
    "language_info": {
      "name": "python"
    },
    "accelerator": "GPU"
  },
  "cells": [
    {
      "cell_type": "markdown",
      "metadata": {
        "id": "rwB2kikJj7L8"
      },
      "source": [
        "# Homework 4\n",
        "## Part 1 *(8 points)*\n",
        "### POS-tagging with Transformers"
      ]
    },
    {
      "cell_type": "markdown",
      "metadata": {
        "id": "kTHDDISej7L-"
      },
      "source": [
        "**Part-of-speech (POS) tagging** is the process of marking up a word in a text as corresponding to a particular part of speech (noun, verb, ...), based on both its definition and its context.\n",
        "\n",
        "\n",
        "<img src=\"https://raw.githubusercontent.com/karfly/learning-deep-learning/master/09_transformer/static/pos-tagging.png\" width=480>\n",
        "\n",
        "Let's look at some basic examples:\n",
        "\n",
        "\n",
        "**Example 1.**\n",
        "\n",
        "$$\\begin{align*}\n",
        "\\text{Input} &= [\\text{I love my cat}]\\\\\n",
        "\\text{Output} &= [\\text{PRON VERB PRON NOUN}]\n",
        "\\end{align*}$$\n",
        "\n",
        "\n",
        "**Example 2.**\n",
        "\n",
        "$$\\begin{align*}\n",
        "\\text{Input} &= [\\text{august 11 , 2000}]\\\\\n",
        "\\text{Output} &= [\\text{PROPN NUM PUNCT NUM}]\n",
        "\\end{align*}$$\n",
        "\n",
        "\n",
        "---\n",
        "At first glance it seems that the POS-tagging problem can be solved by collecting a dictionary `{word : POS-tag}`. But natural language is very complex and usually a word's part of speech strongly depends on the context, like in the following examples: \n",
        "\n",
        "\n",
        "**Example 3.**\n",
        "\n",
        "$$\\begin{align*}\n",
        "\\text{Input} &= [\\text{Look , there is a } \\textbf{bear}]\\\\\n",
        "\\text{Output} &= [\\text{VERB PUNCT DET VERB DET } \\textbf{NOUN}]\n",
        "\\end{align*}$$\n",
        "\n",
        "\n",
        "\n",
        "**Example 4.**\n",
        "\n",
        "$$\\begin{align*}\n",
        "\\text{Input} &= [\\text{I can not } \\textbf{bear } \\text{it anymore}]\\\\\n",
        "\\text{Output} &= [\\text{PROPN VERB ADV } \\textbf{VERB } \\text{PROPN ADV}]\n",
        "\\end{align*}$$\n",
        "\n",
        "In the example 3 the word `bear` is a NOUN, but `bear` in the example 4 is a VERB. This can only be derived from the context. Such examples are not rare, on the contrary, they are very common in human languages (e.g. see [homonyms](https://en.wikipedia.org/wiki/Homonym)). Today we'll tackle this problem by using the most successful (so far) deep learning architecture for NLP – [Transformer](https://arxiv.org/abs/1706.03762)!"
      ]
    },
    {
      "cell_type": "markdown",
      "metadata": {
        "id": "Y9y5LyIyj7MB"
      },
      "source": [
        "### Homework plan\n",
        "\n",
        "In this homework you'll implement and train a **Transformer** for POS-tagging. The **main goal** of this homework is to get to know with the **Transformer architecture** and to understand how it works from the inside.\n",
        "\n",
        "### Grading\n",
        "The main metric in this homework is accuracy calculated on the **test** set (please, don't train on test set – it will be easily revealed by the TAs). Also, you are not allowed to change train/val/test data.\n",
        "\n",
        "We will grade implementation, training and evaluation of your Transformer model. The test accuracy must be **> 85%**.\n",
        "\n",
        "Sorry, there are no strict grading criteria, it's very hard to come up with them. We'll rely on common sense.\n",
        "\n",
        "### Tips\n",
        "- Do not start writing code before you have read and understood the theory.\n",
        "- Read all the text in this notebook (hope, you're reading this).\n",
        " \n",
        "### Disclaimer\n",
        "ConvNets can be better than Transformers in POS-tagging task in the case of small data. In this homework you'll train models on a very small dataset (12 543 train sentences) which is ridiculous on the scale of modern NLP datasets (millions or even billions of sentences!). Anyway, it's very important to understand how Transformers work and to be ready to apply them in a real-world problem with a large dataset, where Transformers outperform other architectures (Conv, RNN, ...) by a large margin.\n",
        "\n",
        "**Good luck and have fun!**"
      ]
    },
    {
      "cell_type": "code",
      "metadata": {
        "id": "MsEbFDMnj7ML"
      },
      "source": [
        "import os\n",
        "import random\n",
        "\n",
        "import numpy as np\n",
        "\n",
        "import torch\n",
        "from torch import nn\n",
        "\n",
        "import torchtext\n",
        "import torchtext.datasets\n",
        "import torchtext.data"
      ],
      "execution_count": 1,
      "outputs": []
    },
    {
      "cell_type": "code",
      "metadata": {
        "id": "_NyFdymMj7MR"
      },
      "source": [
        "device = 'cuda'\n",
        "assert torch.cuda.is_available()\n",
        "\n",
        "BATCH_SIZE = 128\n",
        "MAX_LENGTH = 200  # maximum length of the input sentence\n",
        "MIN_TOKEN_FREQUENCY = 10  # minimum occurrence frequency"
      ],
      "execution_count": 2,
      "outputs": []
    },
    {
      "cell_type": "code",
      "metadata": {
        "id": "BW9oWRR9j7MV"
      },
      "source": [
        "seed = 0\n",
        "\n",
        "random.seed(seed)\n",
        "np.random.seed(seed)\n",
        "torch.manual_seed(seed)\n",
        "torch.backends.cudnn.deterministic = True"
      ],
      "execution_count": 3,
      "outputs": []
    },
    {
      "cell_type": "markdown",
      "metadata": {
        "id": "b7ZyUxHwj7Md"
      },
      "source": [
        "## Load and prepare data"
      ]
    },
    {
      "cell_type": "markdown",
      "metadata": {
        "id": "lVF9TeL4j7Me"
      },
      "source": [
        "In this homework you'll use `UDPOS` dataset for POS-tagging. In fact, `UDPOS` dataset is just a collection of pairs `(sequence of words : sequence of corresponding POS-tags)`.\n",
        "\n",
        "\n",
        "For easy access to the dataset, use [torchtext](https://pytorch.org/text/) library. At first glance, [torchtext](https://pytorch.org/text/)'s interfaces look very strange, but after multiple uses you get used to it, and it appears to be a very nice library.\n",
        "\n",
        "**Note**: `torchtext.legacy.*` is obsolete (hence the name) and is here just for the educational purpose; it will be removed in the next edition of this homework. Don't use it in real projects.\n",
        "\n",
        "Let's define `fields` ([torchtext](https://pytorch.org/text/) abstraction) for text and POS-tags:"
      ]
    },
    {
      "cell_type": "code",
      "metadata": {
        "id": "nkAJLFTAj7Me"
      },
      "source": [
        "TEXT = torchtext.legacy.data.Field(\n",
        "    batch_first=True,\n",
        "    lower=True,  # make lowercase\n",
        "    init_token='<bos>', eos_token='<eos>'  # special tokens: beginning/end of sequence\n",
        ")\n",
        "\n",
        "POSTAG = torchtext.legacy.data.Field(\n",
        "    batch_first=True,\n",
        "    init_token='<bos>', eos_token='<eos>'\n",
        ")"
      ],
      "execution_count": 4,
      "outputs": []
    },
    {
      "cell_type": "markdown",
      "metadata": {
        "id": "XZfDRnEnj7Mg"
      },
      "source": [
        "Now let's get train/val/test data using defined fields:"
      ]
    },
    {
      "cell_type": "code",
      "metadata": {
        "id": "4ztCcdycj7Mg",
        "colab": {
          "base_uri": "https://localhost:8080/"
        },
        "outputId": "954adc5d-04b6-46b4-c380-c38cf7b9ff65"
      },
      "source": [
        "train_data, val_data, test_data = torchtext.legacy.datasets.UDPOS.splits(\n",
        "    fields=(('text', TEXT), ('postag', POSTAG))\n",
        ")\n",
        "\n",
        "print(f\"Train size: {len(train_data)} sequences\")\n",
        "print(f\"Val size: {len(val_data)} sequences\")\n",
        "print(f\"Test size: {len(test_data)} sequences\")"
      ],
      "execution_count": 5,
      "outputs": [
        {
          "output_type": "stream",
          "text": [
            "Train size: 12543 sequences\n",
            "Val size: 2002 sequences\n",
            "Test size: 2077 sequences\n"
          ],
          "name": "stdout"
        }
      ]
    },
    {
      "cell_type": "markdown",
      "metadata": {
        "id": "Js_muyqKj7Mi"
      },
      "source": [
        "Then we build the vocabulary (*note:* using only train data) to get the mapping from token to some unique index:"
      ]
    },
    {
      "cell_type": "code",
      "metadata": {
        "id": "FZxJWm3Mj7Mi"
      },
      "source": [
        "TEXT.build_vocab(train_data.text, min_freq=MIN_TOKEN_FREQUENCY)  # filter out rarely occured tokens\n",
        "POSTAG.build_vocab(train_data.postag)"
      ],
      "execution_count": 6,
      "outputs": []
    },
    {
      "cell_type": "markdown",
      "metadata": {
        "id": "_ZdtCWW0j7Mk"
      },
      "source": [
        "To convert from token to unique index use `.vocab.stoi[...]` method (`.vocab.itos[...]` for inverse mapping). Here we collect unique indices of `padding` special tokens to use them later:"
      ]
    },
    {
      "cell_type": "code",
      "metadata": {
        "id": "DBImYsXpj7Mk",
        "colab": {
          "base_uri": "https://localhost:8080/"
        },
        "outputId": "aaf64bb9-b50c-4977-d66d-57672687b934"
      },
      "source": [
        "TEXT_PAD_IDX = TEXT.vocab.stoi[TEXT.pad_token]\n",
        "POSTAG_PAD_IDX = POSTAG.vocab.stoi[POSTAG.pad_token]\n",
        "print(f\"TEXT_PAD_IDX={TEXT_PAD_IDX}, POSTAG_PAD_IDX={POSTAG_PAD_IDX}\")"
      ],
      "execution_count": 7,
      "outputs": [
        {
          "output_type": "stream",
          "text": [
            "TEXT_PAD_IDX=1, POSTAG_PAD_IDX=1\n"
          ],
          "name": "stdout"
        }
      ]
    },
    {
      "cell_type": "markdown",
      "metadata": {
        "id": "DOHHhes2j7Mm"
      },
      "source": [
        "Get vocabulary sizes:"
      ]
    },
    {
      "cell_type": "code",
      "metadata": {
        "id": "4lUE7iSQj7Mm",
        "colab": {
          "base_uri": "https://localhost:8080/"
        },
        "outputId": "0b98efb9-444a-4d44-b755-c01f8572ec53"
      },
      "source": [
        "INPUT_DIM = len(TEXT.vocab)\n",
        "OUTPUT_DIM = len(POSTAG.vocab)\n",
        "print(f\"Number of unique words: {INPUT_DIM}\")\n",
        "print(f\"Number of unique POS-tags: {OUTPUT_DIM}\")\n",
        "print(\"All POS-tags:\", ' '.join(POSTAG.vocab.itos))"
      ],
      "execution_count": 8,
      "outputs": [
        {
          "output_type": "stream",
          "text": [
            "Number of unique words: 2139\n",
            "Number of unique POS-tags: 21\n",
            "All POS-tags: <unk> <pad> <bos> <eos> NOUN PUNCT VERB PRON ADP DET PROPN ADJ AUX ADV CCONJ PART NUM SCONJ X INTJ SYM\n"
          ],
          "name": "stdout"
        }
      ]
    },
    {
      "cell_type": "markdown",
      "metadata": {
        "id": "p_Hy9_ccj7Mq"
      },
      "source": [
        "Finally, we define the data iterators that we'll use for training and evaluation:"
      ]
    },
    {
      "cell_type": "code",
      "metadata": {
        "id": "hWQPoRHUj7Mq"
      },
      "source": [
        "train_iterator, val_iterator, test_iterator = torchtext.legacy.data.BucketIterator.splits(\n",
        "    (train_data, val_data, test_data), \n",
        "     batch_size=BATCH_SIZE,\n",
        "     device=device\n",
        ")"
      ],
      "execution_count": 9,
      "outputs": []
    },
    {
      "cell_type": "markdown",
      "metadata": {
        "id": "JQhCA_g3j7Ms"
      },
      "source": [
        "Let's grab a batch and look inside:"
      ]
    },
    {
      "cell_type": "code",
      "metadata": {
        "id": "rEPENhfdj7Mt",
        "colab": {
          "base_uri": "https://localhost:8080/"
        },
        "outputId": "61b3c8e2-2c2b-47c5-ee83-0769053dcea6"
      },
      "source": [
        "batch = next(iter(train_iterator))\n",
        "text, postag = batch.text, batch.postag\n",
        "\n",
        "print(f\"text.shape = {text.shape} = [batch_size, seq_len]\")\n",
        "print(f\"postag.shape = {postag.shape} = [batch_size, seq_len]\")\n",
        "print(f\"Datatype is {text.dtype}\")"
      ],
      "execution_count": 10,
      "outputs": [
        {
          "output_type": "stream",
          "text": [
            "text.shape = torch.Size([128, 50]) = [batch_size, seq_len]\n",
            "postag.shape = torch.Size([128, 50]) = [batch_size, seq_len]\n",
            "Datatype is torch.int64\n"
          ],
          "name": "stdout"
        }
      ]
    },
    {
      "cell_type": "markdown",
      "metadata": {
        "id": "eCbUXQufj7Mv"
      },
      "source": [
        "Well, that's all about the data!"
      ]
    },
    {
      "cell_type": "markdown",
      "metadata": {
        "id": "_jGN_S7mj7NE"
      },
      "source": [
        "## Transformer\n",
        "\n",
        "In this part you will implement a slightly modified version of the Transformer model from the [Attention is All You Need](https://arxiv.org/abs/1706.03762) paper. Actually, you'll only implement the encoder part, because it's enough for POS-tagging task.\n",
        "\n",
        "It's **highly recommended** to read [the original Transformer paper](https://arxiv.org/abs/1706.03762) or [this nice article](https://jalammar.github.io/illustrated-transformer/) before starting coding.\n",
        "\n",
        "The Transformer consists of multiple nested modules like a matryoshka (e.g. `Encoder` consists of `EncoderLayer`, which consists of `MultiHeadAttentionLayer` and `PositionwiseFeedforwardLayer`). In this notebook the implementation of modules is ordered in a [top-down](https://en.wikipedia.org/wiki/Top-down_and_bottom-up_design) manner – first the higher-level modules are implemented (e.g. `Encoder`), that use lower-level modules (e.g. `EncoderLayer`), which are not implemented yet. It's **strongly recommended** to read the notebook to the end to be aware of the code structure, before you start implementing the Transformer.\n",
        "\n",
        "![](https://raw.githubusercontent.com/karfly/learning-deep-learning/master/09_transformer/static/transformer.png)\n",
        "\n",
        "The Transformer does not use any recurrent relations. It also does not use any convolutional layers. Instead the model is entirely made up of linear layers, **attention mechanisms** and normalizations.\n",
        "\n",
        "As of 2021, Transformers are the dominant architecture in NLP and are used to achieve state-of-the-art results for many tasks and it appears that they will be in the near future. \n",
        "\n",
        "\n",
        "*Note:* in this notebook you'll implement a **learned positional encoding** (in the fashion of [BERT](https://arxiv.org/abs/1810.04805)), not the static one from the [original paper](https://arxiv.org/abs/1706.03762)."
      ]
    },
    {
      "cell_type": "markdown",
      "metadata": {
        "id": "BVIDC_vuj7NE"
      },
      "source": [
        "### Encoder\n",
        "\n",
        "The Transformer's encoder attempts to *transform* the entire source sentence, $X = (x_1, ... ,x_n)$, into a sequence of context vectors, $Z = (z_1, ... , z_n)$. So, if our input sequence was 5 tokens long we would have $Z = (z_1, z_2, z_3, z_4, z_5)$. Why do we call this a sequence of context vectors and not a sequence of hidden states? A hidden state at time $t$ in an RNN has only seen tokens $x_t$ and all the tokens before it. However, each context vector here has seen all tokens at all positions within the input sequence.\n",
        "\n",
        "![](https://raw.githubusercontent.com/karfly/learning-deep-learning/master/09_transformer/static/transformer-encoder.png)\n",
        "\n",
        "First, the tokens are passed through a standard embedding layer. Next, as the model has no recurrence it has no idea about the order of the tokens within the sequence. We solve this by using a second embedding layer called a *positional embedding layer*. This is a standard embedding layer where the input is not the token itself but the position of the token within the sequence, starting with the first token, the `<bos>` (beginning of sequence) token, in position 0. The position embedding has a \"vocabulary\" size of `max_length`, which means our model can accept sentences up to `max_length` tokens long.\n",
        "\n",
        "The original Transformer implementation from the [Attention is All You Need](https://arxiv.org/abs/1706.03762) paper does not learn positional embeddings. Instead it uses a fixed static embedding. Modern Transformer architectures, like [BERT](https://arxiv.org/abs/1810.04805), use positional embeddings instead, so we'll use them.\n",
        "\n",
        "Next, the token and positional embeddings are elementwise summed together to get a vector which contains information about the token and also its position within the sequence. ~~However, before they are summed, the token embeddings are multiplied by a scaling factor which is $\\sqrt{d_{model}}$, where $d_{model}$ is the hidden dimension size, `hid_dim`. This (supposedly) reduces variance in the embeddings and the model is difficult to train reliably without this scaling factor.~~ (*crossed out because [it was misleading](https://deeplearnings-3fl6116.slack.com/archives/C01SF4PKJG6/p1620322986136200)*) To train the model reliably, it's important to make sure that (1) these two summands have values of roughly the same scale so that none of them outpowers the other, and that (2) the sum is roughly within the range that your next layer is initialized for (usually around -2 to 2). Dropout is then applied to the combined embeddings.\n",
        "\n",
        "The combined embeddings are then passed through $N$ *encoder layers* to get $Z$, which is the output and can be used for any downstream task (e.g. POS-tagging).\n",
        "\n",
        "The mask, `mask`, is simply the same shape as the source sentence but has a value of 1 when the token in the source sentence is not a `<pad>` token and 0 when it is a `<pad>` token. This is used in the encoder layers to mask the multi-head attention mechanisms, which are used to calculate and apply attention over the source sentence, so the model does not pay attention to `<pad>` tokens, which contain no useful information."
      ]
    },
    {
      "cell_type": "code",
      "metadata": {
        "id": "-6mcd0H3j7NF"
      },
      "source": [
        "class Encoder(nn.Module):\n",
        "    def __init__(self,\n",
        "                 input_dim, \n",
        "                 hid_dim, \n",
        "                 n_layers, \n",
        "                 n_heads, \n",
        "                 pf_dim,\n",
        "                 dropout, \n",
        "                 padding_index=None,\n",
        "                 max_length=128):\n",
        "        super().__init__()\n",
        "        \n",
        "        self.padding_index = padding_index  # if None, don't use masking\n",
        "        \n",
        "        # embeddings\n",
        "        self.tok_embedding = nn.Embedding(input_dim, hid_dim)\n",
        "        self.pos_embedding = nn.Embedding(max_length, hid_dim)\n",
        "        \n",
        "        # encoder layers (implemented below)\n",
        "        self.layers = nn.ModuleList([EncoderLayer(hid_dim, n_heads, pf_dim, dropout) for _ in range(n_layers)])\n",
        "        \n",
        "        # dropout is applied after summing up token and positional embeddings\n",
        "        self.dropout = nn.Dropout(dropout)\n",
        "        \n",
        "        # scale parameter\n",
        "        self.scale = torch.nn.Parameter(torch.sqrt(torch.tensor(hid_dim, dtype=torch.float32)), requires_grad=False)\n",
        "        \n",
        "        # custom weight initialization\n",
        "        self.init_weights()\n",
        "        \n",
        "    def init_weights(self):\n",
        "        for m in self.modules():\n",
        "            if hasattr(m, 'weight') and m.weight.dim() > 1:\n",
        "                nn.init.xavier_uniform_(m.weight.data)\n",
        "        \n",
        "    def forward(self, x):\n",
        "        \"\"\"\n",
        "        x (batch of token indices): torch.long tensor of shape [bs, seq_len]\n",
        "        \n",
        "        returns (encoded sequence): torch.float32 tensor of shape [bs, seq_len, output_dim]\n",
        "        \"\"\"\n",
        "        device = x.device\n",
        "        bs, seq_len = x.shape[:2]\n",
        "        \n",
        "        # compute non-padding mask (use self.padding_index)\n",
        "        mask = None\n",
        "        if self.padding_index is not None:\n",
        "            mask = x != self.padding_index\n",
        "        \n",
        "        # get token embeddings and scale with self.scale parameter\n",
        "        x = self.tok_embedding(x) * self.scale\n",
        "        \n",
        "        # generate input [0, 1, ..., seq_len - 1] for positional embedder [bs, seq_len]\n",
        "        pos_emb_input = torch.arange(seq_len).repeat(bs, 1).to(device)\n",
        "      \n",
        "        # get pos embeddings\n",
        "        pos_embs = self.pos_embedding(pos_emb_input) * self.scale\n",
        "        # pos_embs = self.pos_embedding(pos_emb_input)\n",
        "        \n",
        "        # sum up token and positional embeddings\n",
        "        x = x + pos_embs\n",
        "        \n",
        "        # apply dropout\n",
        "        x = self.dropout(x)\n",
        "        \n",
        "        # apply encoder layers one by one; input shape is [bs, seq_len, hid dim]\n",
        "        for layer in self.layers:\n",
        "          x = layer(x, mask)\n",
        "        \n",
        "        return x"
      ],
      "execution_count": 11,
      "outputs": []
    },
    {
      "cell_type": "markdown",
      "metadata": {
        "id": "LAzyAzF4j7NG"
      },
      "source": [
        "### Encoder Layer\n",
        "\n",
        "The encoder layers are where all of the \"meat\" of the encoder is contained.\n",
        "\n",
        "![](https://raw.githubusercontent.com/karfly/learning-deep-learning/master/09_transformer/static/transformer-encoder-layer.png)\n",
        "\n",
        "The encoder layer consists of 2 main blocks:\n",
        "1. Pass the source sentence and its mask into the *multi-head attention layer*, perform dropout on it, add a residual connection and pass it through a [Layer Normalization](https://arxiv.org/abs/1607.06450) layer.\n",
        "2. Pass the output of the 1st block through a *position-wise feedforward* layer and then, again, apply dropout, a residual connection and then layer normalization to get the output of this layer which is fed into the next layer (the parameters are not shared between layers)\n",
        "\n",
        "\n",
        "The multi-head attention layer is used by the encoder layer to attend to the source sentence, i.e. it is calculating and applying attention over itself instead of another sequence, hence we call it *self attention*.\n",
        "\n",
        "[This article](https://mlexplained.com/2018/01/13/weight-normalization-and-layer-normalization-explained-normalization-in-deep-learning-part-2/) goes into more detail about layer normalization, but the gist is that it normalizes the values of the features, i.e. across the hidden dimension, so each feature has a mean of 0 and a standard deviation of 1. This allows neural networks with a larger number of layers, like the Transformer, to be trained easier."
      ]
    },
    {
      "cell_type": "code",
      "metadata": {
        "id": "NxE34atwj7NG"
      },
      "source": [
        "class EncoderLayer(nn.Module):\n",
        "    def __init__(self, \n",
        "                 hid_dim, \n",
        "                 n_heads, \n",
        "                 pf_dim,  \n",
        "                 dropout):\n",
        "        super().__init__()\n",
        "        \n",
        "        # self-attention layer normalization\n",
        "        self.attention_layer_norm = nn.LayerNorm(hid_dim)\n",
        "        \n",
        "        # positionwise feedforward layer normalization\n",
        "        self.pf_layer_norm = nn.LayerNorm(hid_dim)\n",
        "        \n",
        "        # attention layer (implemented below)\n",
        "        self.attention = MultiHeadAttentionLayer(hid_dim, n_heads, dropout)\n",
        "        \n",
        "        # positionwise feedforward layer (implemented below)\n",
        "        self.pf = PositionwiseFeedforwardLayer(hid_dim, pf_dim, dropout)\n",
        "        \n",
        "        # dropout is applied to the outputs of the attention and positionwise feedforward layers\n",
        "        self.dropout = nn.Dropout(dropout)\n",
        "        \n",
        "    def forward(self, x, mask=None):\n",
        "        \"\"\"\n",
        "        x (sequence of vectors): torch.float32 tensor of shape [bs, seq_len, hid_dim]\n",
        "        mask (mask of valid elements): torch.bool tensor of shape [bs, seq_len]\n",
        "        \n",
        "        returns (processed sequence of vectors): torch.float32 tensor of shape [bs, seq_len, hid_dim]\n",
        "        \"\"\"\n",
        "        ### block 1\n",
        "        # calculate self-attention + dropout\n",
        "        x1 = self.attention(x, x, x, mask)\n",
        "        x1 = self.dropout(x1)\n",
        "        \n",
        "        # residual (attention) + attention layer norm\n",
        "        x1 = self.attention_layer_norm(x1 + x)\n",
        "        \n",
        "        ### block 2\n",
        "        # calculate positionwise feedforward + dropout\n",
        "        x2 = self.pf(x1)\n",
        "        x2 = self.dropout(x2)\n",
        "        \n",
        "        # residual (positionwise feedforward) + positionwise feedforward layer norm\n",
        "        x = self.pf_layer_norm(x2 + x1)\n",
        "        \n",
        "        return x"
      ],
      "execution_count": 12,
      "outputs": []
    },
    {
      "cell_type": "markdown",
      "metadata": {
        "id": "LYf6cuVFj7NH"
      },
      "source": [
        "### Multi-Head Attention Layer\n",
        "\n",
        "One of the key, novel concepts introduced by the Transformer paper is the *multi-head attention layer*. \n",
        "\n",
        "![](https://raw.githubusercontent.com/karfly/learning-deep-learning/master/09_transformer/static/transformer-attention.png)\n",
        "\n",
        "Attention can be thought of as *queries*, *keys* and *values* - where the query is used with the key to get an attention vector (usually the output of a *softmax* operation and has all values between 0 and 1 which sum to 1) which is then used to get a weighted sum of the values.\n",
        "\n",
        "The Transformer uses *scaled dot-product attention*, where the query and the key are combined by taking the dot product between them, then applying the softmax operation, scaling by $d_k$ and finally multiplying by the value. $d_k$ is the *head dimension*, `head_dim`, which we will shortly explain further.\n",
        "\n",
        "$$ \\text{Attention}(Q, K, V) = \\text{Softmax} \\big( \\frac{QK^T}{\\sqrt{d_k}} \\big)V $$ \n",
        "\n",
        "This is similar to standard *dot product attention* but is scaled by $d_k$, which the paper states is used to stop the results of the dot products growing large, causing gradients to become too small.\n",
        "\n",
        "However, the scaled dot-product attention isn't simply applied to the queries, keys and values. Instead of doing a single attention application the queries, keys and values have their `hid_dim` split into $h$ *heads* and the scaled dot-product attention is calculated over all heads in parallel. This means instead of paying attention to one concept per attention application, we pay attention to $h$. We then re-combine the heads into their `hid_dim` shape, thus each `hid_dim` is potentially paying attention to $h$ different concepts.\n",
        "\n",
        "$$ \\text{MultiHead}(Q, K, V) = \\text{Concat}(\\text{head}_1,...,\\text{head}_h)W^O $$\n",
        "\n",
        "$$\\text{head}_i = \\text{Attention}(QW_i^Q, KW_i^K, VW_i^V) $$\n",
        "\n",
        "$W^O$ is the linear layer applied at the end of the multi-head attention layer, `fc`. $W^Q, W^K, W^V$ are the linear layers `fc_q`, `fc_k` and `fc_v`.\n",
        "\n",
        "The steps in this module are as follows:\n",
        "1. Calculate $QW^Q$, $KW^K$ and $VW^V$ with the linear layers, `fc_q`, `fc_k` and `fc_v` to get `Q`, `K` and `V`.\n",
        "2. Split the `hid_dim` of the query, key and value into `n_heads` (use `.view`) and correctly permute them so they can be multiplied together.\n",
        "3. Calculate the `energy` (the un-normalized attention) by multiplying `Q` and `K` together and scaling it by the square root of `head_dim`, which is calculated as `hid_dim // n_heads`. Mask the energy not to pay attention over any elements of the sequence we shouldn't.\n",
        "4. Apply the softmax, dropout and then apply the attention to the value heads, `V`, before combining the `n_heads` together.\n",
        "5. Finally, multiply the output of step 4 with $W^O$ (represented as `fc_o`). \n",
        "\n",
        "Note that in our implementation the lengths of the keys and values are always the same, thus when matrix multiplying the output of the softmax, `attention`, with `V` we will always have valid dimension sizes for matrix multiplication. This multiplication is carried out using the `@` operator which, when both tensors are >2-dimensional, does a batched matrix multiplication over the last two dimensions of each tensor. This will be a **[query len, key len] x [value len, head dim]** batched matrix multiplication over the batch size and each head which provides the **[batch size, n heads, query len, head dim]** result.\n",
        "\n",
        "One thing that looks strange at first is that dropout is applied directly to the attention. This means that our attention vector will most probably not sum to 1 and we may pay full attention to a token but the attention over that token is set to 0 by dropout. This is never explained, or even mentioned, in the paper however is used by the [official implementation](https://github.com/tensorflow/tensor2tensor/) and every Transformer implementation since, [including BERT](https://github.com/google-research/bert/)."
      ]
    },
    {
      "cell_type": "code",
      "metadata": {
        "id": "d7GejVlLj7NI"
      },
      "source": [
        "class MultiHeadAttentionLayer(nn.Module):\n",
        "    def __init__(self, hid_dim, n_heads, dropout):\n",
        "        super().__init__()\n",
        "        \n",
        "        assert hid_dim % n_heads == 0, \"hid_dim must be divisible by n_heads\"\n",
        "        \n",
        "        self.hid_dim = hid_dim\n",
        "        self.n_heads = n_heads\n",
        "        self.head_dim = hid_dim // n_heads\n",
        "        \n",
        "        # query, key and value linear networks\n",
        "        self.fc_q = nn.Linear(hid_dim, hid_dim)\n",
        "        self.fc_k = nn.Linear(hid_dim, hid_dim)\n",
        "        self.fc_v = nn.Linear(hid_dim, hid_dim)\n",
        "        \n",
        "        # output linear networks\n",
        "        self.fc_o = nn.Linear(hid_dim, hid_dim)\n",
        "        \n",
        "        # dropout is applied to attention\n",
        "        self.dropout = nn.Dropout(dropout)\n",
        "        \n",
        "        # scale parameter\n",
        "        self.scale = torch.nn.Parameter(torch.sqrt(torch.tensor(self.head_dim, dtype=torch.float32)), requires_grad=False)\n",
        "        \n",
        "    def forward(self, query, key, value, mask=None):\n",
        "        \"\"\"\n",
        "        query/key/value (batch of queries/keys/values): torch.float32 tensor of shape [bs, seq_len, hid_dim]\n",
        "        mask (mask of valid elements): torch.bool tensor of shape [bs, seq_len]\n",
        "        \n",
        "        returns (multi-head attention): torch.float32 tensor of shape [bs, seq_len, hid_dim]\n",
        "        \"\"\"\n",
        "        \n",
        "        bs = query.shape[0]\n",
        "        \n",
        "        # calculate Q, K, V using corresponding linear networks\n",
        "        q, k, v = self.fc_q(query), self.fc_k(key), self.fc_v(value)  # shape is [bs, seq_len, hid_dim]\n",
        "                \n",
        "        # prepare Q, K, V for the `@` operator\n",
        "        # shape is [bs, n_heads, seq_len, head_dim]\n",
        "        seq_len = q.shape[1]\n",
        "\n",
        "        # print('qkv shapes:', q.shape, k.shape, v.shape)\n",
        "\n",
        "        q = q.view(bs, self.n_heads, seq_len, self.head_dim)\n",
        "        k = k.view(bs, self.n_heads, self.head_dim, seq_len)\n",
        "        v = v.view(bs, self.n_heads, seq_len, self.head_dim)\n",
        "\n",
        "        # print('qkv after reshape shapes:', q.shape, k.shape, v.shape)\n",
        "        \n",
        "        # compute energy using the `@` operator (don't forget to scale!)\n",
        "        # shape is [bs, n_heads, seq_len, seq_len]\n",
        "        energy = (q @ k) / self.scale\n",
        "        \n",
        "        # apply mask – 1 in mask is a valid element, 0 - not; fill with some large negative numbers (use .masked_fill())\n",
        "        if mask is not None:\n",
        "            # print('mask energy shapes:', mask.shape, energy.shape)\n",
        "            mask_broadcasted = mask.unsqueeze(1).unsqueeze(1)\n",
        "            # print('broadcasted mask shape:', mask_broadcasted.shape)\n",
        "            energy.masked_fill_(~mask_broadcasted, -1e20)\n",
        "        \n",
        "        # apply softmax along the last dim of energy and get the attention weights + dropout\n",
        "        # shape is [bs, n_heads, seq_len, seq_len]\n",
        "        attention = energy.softmax(dim=-1)\n",
        "        attention = self.dropout(attention)\n",
        "\n",
        "        # print('attention shape', attention.shape)\n",
        "        \n",
        "        # weight values with calculated attention (use `@` operator)\n",
        "        # shape is [bs, n_heads, seq_len, head_dim]\n",
        "        x = attention @ v\n",
        "\n",
        "        # print('weighted attention shape', x.shape)\n",
        "        \n",
        "        # squash 1 and 4 dims back\n",
        "        x = x.permute(0, 2, 1, 3).contiguous()\n",
        "        x = x.view(bs, -1, self.hid_dim)  # shape is [bs, seq_len, hid_dim]\n",
        "\n",
        "        # print('swap dimensions shape', x.shape)\n",
        "        \n",
        "        # apply output linear layer\n",
        "        x = self.fc_o(x)\n",
        "        \n",
        "        return x"
      ],
      "execution_count": 13,
      "outputs": []
    },
    {
      "cell_type": "markdown",
      "metadata": {
        "id": "vWjirq-rj7NJ"
      },
      "source": [
        "### Position-wise Feedforward Layer\n",
        "\n",
        "The other main block inside the encoder layer is the *position-wise feedforward layer* This is relatively simple compared to the multi-head attention layer. The input is transformed from `hid_dim` to `pf_dim`, where `pf_dim` is usually a lot larger than `hid_dim`. The original Transformer used a `hid_dim` of 512 and a `pf_dim` of 2048. The ReLU activation function and dropout are applied before it is transformed back into a `hid_dim` representation. \n",
        "\n",
        "Why is this used? Unfortunately, it is never explained in the paper.\n",
        "\n",
        "*The bonus*: we implemented this layer for you!"
      ]
    },
    {
      "cell_type": "code",
      "metadata": {
        "id": "7Tm1VN2Uj7NJ"
      },
      "source": [
        "class PositionwiseFeedforwardLayer(nn.Module):\n",
        "    def __init__(self, hid_dim, pf_dim, dropout):\n",
        "        super().__init__()\n",
        "        \n",
        "        # linear layers\n",
        "        self.fc_1 = nn.Linear(hid_dim, pf_dim)\n",
        "        self.fc_2 = nn.Linear(pf_dim, hid_dim)\n",
        "        \n",
        "        # dropout is applied after the first layer\n",
        "        self.dropout = nn.Dropout(dropout)\n",
        "        \n",
        "    def forward(self, x):\n",
        "        \"\"\"\n",
        "        x (sequence of vectors): torch.float32 tensor of shape [bs, seq_len, hid_dim]\n",
        "        \n",
        "        returns (processed sequence of vectors): torch.float32 tensor of shape [bs, seq_len, hid_dim]\n",
        "        \"\"\"\n",
        "        # apply linear layers + dropout\n",
        "        x = self.dropout(torch.relu(self.fc_1(x)))\n",
        "        x = self.fc_2(x)\n",
        "        \n",
        "        return x"
      ],
      "execution_count": 14,
      "outputs": []
    },
    {
      "cell_type": "markdown",
      "metadata": {
        "id": "nlaNASAPj7NK"
      },
      "source": [
        "## Transformer POS-tagger"
      ]
    },
    {
      "cell_type": "markdown",
      "metadata": {
        "id": "PDaDuBrTj7NK"
      },
      "source": [
        "Now we have all the parts of the transformer and we can build a Transformer-based POS-tagger. It consists of Transformer encoder and single linear layer, which predicts the classes of POS-tags:"
      ]
    },
    {
      "cell_type": "code",
      "metadata": {
        "id": "-fifCVq1j7NK"
      },
      "source": [
        "class TransformerPOSTagger(nn.Module):\n",
        "    def __init__(self,\n",
        "                 input_dim,\n",
        "                 output_dim,\n",
        "                 hid_dim=64, \n",
        "                 n_layers=8, \n",
        "                 n_heads=8, \n",
        "                 pf_dim=64,\n",
        "                 dropout=0.1, \n",
        "                 padding_index=None,\n",
        "                 max_length=128):\n",
        "        super().__init__()\n",
        "        \n",
        "        # transformer encoder\n",
        "        self.encoder = Encoder(\n",
        "            input_dim,\n",
        "            hid_dim=hid_dim, \n",
        "            n_layers=n_layers, \n",
        "            n_heads=n_heads, \n",
        "            pf_dim=pf_dim,\n",
        "            dropout=dropout, \n",
        "            padding_index=padding_index,\n",
        "            max_length=max_length\n",
        "        )\n",
        "        \n",
        "        # linear layer to predict (classify) pos-tags\n",
        "        self.postag_predictor = nn.Linear(hid_dim, output_dim)\n",
        "        \n",
        "    def forward(self, x):\n",
        "        # apply encoder\n",
        "        x = self.encoder(x)\n",
        "        \n",
        "        # predict postags\n",
        "        x = self.postag_predictor(x)\n",
        "        \n",
        "        return x"
      ],
      "execution_count": 15,
      "outputs": []
    },
    {
      "cell_type": "markdown",
      "metadata": {
        "id": "faJX_6cNj7M5"
      },
      "source": [
        "## Training Pipeline\n",
        "\n",
        "A common practice in training deep learning models is to a create single-function `run_epoch(...)`, which can be used both for training and evaluation (see `phase` parameter). Here you need to implement forward of the model and the loss calculation. Good news is that you'll reuse this function later for training the Transformer model."
      ]
    },
    {
      "cell_type": "code",
      "metadata": {
        "id": "_J-bcATu5g6z"
      },
      "source": [
        "# If `True`, train the model.\n",
        "# If `False`, only load weights from \"TransformerPOSTagger.pth\" and evaluate\n",
        "DO_TRAIN = False"
      ],
      "execution_count": 22,
      "outputs": []
    },
    {
      "cell_type": "code",
      "metadata": {
        "id": "SEmUDyngmuHh"
      },
      "source": [
        "def run_epoch(model, dataloader, optimizer, criterion, phase='train'):\n",
        "    is_train = (phase == 'train')\n",
        "    if is_train:\n",
        "        model.train()\n",
        "    else:\n",
        "        model.eval()\n",
        "    \n",
        "    epoch_loss = 0\n",
        "\n",
        "    # variables for calculating accuracy\n",
        "    n_predicted, n_true_predicted = 0, 0\n",
        "    \n",
        "    with torch.set_grad_enabled(is_train):\n",
        "        for i, batch in enumerate(dataloader):\n",
        "            # unpack batch\n",
        "            text, postag = batch.text, batch.postag\n",
        "\n",
        "            if is_train:\n",
        "                optimizer.zero_grad()\n",
        "            \n",
        "            # make prediction\n",
        "            pred = model(text)\n",
        "            \n",
        "            # reshape prediction to [-1, output_dim]\n",
        "            pred = pred.view(-1, pred.shape[2])\n",
        "            \n",
        "            # reshape gt labels to [-1, ]\n",
        "            gt = postag.view(-1)\n",
        "            \n",
        "            # calculate loss\n",
        "            loss = criterion(pred, gt)\n",
        "            \n",
        "            if is_train:\n",
        "                # make optimization step\n",
        "                loss.backward()\n",
        "                optimizer.step()\n",
        "                \n",
        "            # calculate accuracy\n",
        "            n_true_predicted += ((pred.argmax(-1) == gt) * (gt != POSTAG_PAD_IDX)).sum().item()  # exclude pad token\n",
        "            n_predicted += torch.sum(gt != POSTAG_PAD_IDX).item()\n",
        "            \n",
        "            # log per-batch train metrics\n",
        "                \n",
        "            epoch_loss += loss.item()\n",
        "\n",
        "        average_loss = epoch_loss / len(dataloader)\n",
        "        average_accuracy = n_true_predicted / n_predicted\n",
        "        \n",
        "        # log per-epoch metrics\n",
        "\n",
        "        return average_loss, average_accuracy"
      ],
      "execution_count": 17,
      "outputs": []
    },
    {
      "cell_type": "code",
      "metadata": {
        "id": "EaP7Gv00j7NM"
      },
      "source": [
        "hid_dim = 64\n",
        "n_layers = 8\n",
        "n_heads = 8\n",
        "pf_dim = 64\n",
        "dropout = .1\n",
        "\n",
        "model = TransformerPOSTagger(\n",
        "    INPUT_DIM,\n",
        "    OUTPUT_DIM,\n",
        "    hid_dim=hid_dim, \n",
        "    n_layers=n_layers, \n",
        "    n_heads=n_heads, \n",
        "    pf_dim=pf_dim, \n",
        "    dropout=dropout, \n",
        "    padding_index=TEXT_PAD_IDX,\n",
        "    max_length=MAX_LENGTH\n",
        ").to(device)"
      ],
      "execution_count": 18,
      "outputs": []
    },
    {
      "cell_type": "markdown",
      "metadata": {
        "id": "RvQ9vqyyj7NN"
      },
      "source": [
        "The learning rate needs to be lower than the default used by Adam, otherwise the learning can be unstable.\n",
        "\n",
        "Any loss function suitable for classification will also work for us, so we'll choose the obvious standard option – [nn.CrossEntropyLoss](https://pytorch.org/docs/stable/generated/torch.nn.CrossEntropyLoss.html) criterion. Make sure to ignore losses calculated over `<pad>` tokens, not to add noise to the total loss (use `ignore_index=`)."
      ]
    },
    {
      "cell_type": "code",
      "metadata": {
        "id": "hW65LgNBj7NN",
        "colab": {
          "base_uri": "https://localhost:8080/"
        },
        "outputId": "23e9d220-766c-4ec7-b8d9-de161c79c114"
      },
      "source": [
        "def count_parameters(model):\n",
        "    return sum(p.numel() for p in model.parameters() if p.requires_grad)\n",
        "\n",
        "criterion = nn.CrossEntropyLoss(ignore_index=TEXT_PAD_IDX)\n",
        "\n",
        "if DO_TRAIN:\n",
        "    optimizer = torch.optim.Adam(model.parameters(), lr=1e-4)\n",
        "\n",
        "    best_model_path = 'checkpoint.pth'\n",
        "\n",
        "    print(f\"Model has {count_parameters(model)} trainable parameters\")"
      ],
      "execution_count": 19,
      "outputs": [
        {
          "output_type": "stream",
          "text": [
            "Model has 352789 trainable parameters\n"
          ],
          "name": "stdout"
        }
      ]
    },
    {
      "cell_type": "markdown",
      "metadata": {
        "id": "bcxp0-P2j7NO"
      },
      "source": [
        "Train Transformer POS-tagger:"
      ]
    },
    {
      "cell_type": "code",
      "metadata": {
        "id": "SkeT3H_Lj7NO",
        "scrolled": true
      },
      "source": [
        "if DO_TRAIN:\n",
        "    n_epochs = 100\n",
        "\n",
        "    best_val_loss = float('+inf')\n",
        "    for epoch in range(n_epochs):\n",
        "        train_loss, train_accuracy = run_epoch(model, train_iterator, optimizer, criterion, phase='train')\n",
        "        val_loss, val_accuracy = run_epoch(model, val_iterator, None, criterion, phase='val')\n",
        "\n",
        "        if val_loss < best_val_loss:\n",
        "            best_val_loss = val_loss\n",
        "            torch.save(model.state_dict(), best_model_path)\n",
        "\n",
        "        print(f'Epoch: {epoch+1:02}')\n",
        "        print(f'\\tTrain Loss: {train_loss:.3f} | Train accuracy: {train_accuracy * 100:.2f}')\n",
        "        print(f'\\t Val. Loss: {val_loss:.3f} |  Val. accuracy: {val_accuracy * 100:.2f}')"
      ],
      "execution_count": 21,
      "outputs": []
    },
    {
      "cell_type": "markdown",
      "metadata": {
        "id": "BF_Vw28Hj7NQ"
      },
      "source": [
        "Rename the best model to `TransformerPOSTagger.pth` and upload it to Google Drive, set \"Anyone with the link can view\". Like in the assignment №2, fill the md5 checksum and the link."
      ]
    },
    {
      "cell_type": "code",
      "metadata": {
        "id": "Fqq7qwYrmuHk"
      },
      "source": [
        "best_model_md5_checksum = 'f40f8de5cf6ba18fbce882e0259607f5'\n",
        "best_model_gdrive_link = 'https://drive.google.com/file/d/14KFT7C6QjTUcsm2zAIS-dtSjZ_jODRr4/view?usp=sharing'"
      ],
      "execution_count": null,
      "outputs": []
    },
    {
      "cell_type": "markdown",
      "metadata": {
        "id": "Y0eHe41amuHk"
      },
      "source": [
        "This is how we check your model when grading the assignment."
      ]
    },
    {
      "cell_type": "code",
      "metadata": {
        "id": "i412TCMij7NQ"
      },
      "source": [
        "if DO_TRAIN:\n",
        "    model.load_state_dict(torch.load(best_model_path, map_location=device))\n",
        "else:\n",
        "    # Download the checkpoint and initialize model weights from it\n",
        "    import urllib\n",
        "    import subprocess\n",
        "\n",
        "    penalize = False\n",
        "\n",
        "    # Get your link and checksum\n",
        "    claimed_md5_checksum, google_drive_link = best_model_md5_checksum, best_model_gdrive_link\n",
        "    \n",
        "    WEIGHTS_FILE = \"./TransformerPOSTagger.pth\"\n",
        "\n",
        "    # Use your link to download \"checkpoint.pth\"\n",
        "    !gdown --id {urllib.parse.urlparse(google_drive_link).path.split('/')[-2]}\n",
        "\n",
        "    try:\n",
        "        # Compute the actual checksum\n",
        "        real_md5_checksum = subprocess.check_output(\n",
        "            [\"md5sum\", WEIGHTS_FILE]).decode().split()[0]\n",
        "    except subprocess.CalledProcessError as err:\n",
        "        # Couldn't download or the filename isn't \"TransformerPOSTagger.pth\"\n",
        "        print(f\"Wrong link or filename: {err}\")\n",
        "        penalize = True\n",
        "    else:\n",
        "        # The trained checkpoint is different from the one submitted\n",
        "        if real_md5_checksum != claimed_md5_checksum:\n",
        "            print(\"Checksums differ! Late submission?\")\n",
        "            penalize = True\n",
        "\n",
        "    if penalize:\n",
        "        print(\"🔫 Prepare the penalizer! 🔫\")\n",
        "\n",
        "    # Finally load weights\n",
        "    model.load_state_dict(torch.load(WEIGHTS_FILE, map_location=device))"
      ],
      "execution_count": null,
      "outputs": []
    },
    {
      "cell_type": "code",
      "metadata": {
        "id": "USnMMj7DmuHk"
      },
      "source": [
        "model.load_state_dict(torch.load(WEIGHTS_FILE, map_location=device))\n",
        "\n",
        "test_loss, test_accuracy = run_epoch(model, test_iterator, None, criterion, phase='val')\n",
        "print(f'Test Loss: {test_loss:.3f} | Test accuracy: {test_accuracy:7.3f}')"
      ],
      "execution_count": null,
      "outputs": []
    },
    {
      "cell_type": "markdown",
      "metadata": {
        "id": "7tuFlGFyj7M-"
      },
      "source": [
        "Next we'll implement functions to infer our model on any given sentence and display the outputs:"
      ]
    },
    {
      "cell_type": "code",
      "metadata": {
        "id": "INQ12G9Vj7M-"
      },
      "source": [
        "def infer_model(sentence, model, device):\n",
        "    model.eval()\n",
        "    \n",
        "    # get tokens\n",
        "    if isinstance(sentence, str):\n",
        "        tokens = [token.lower() for token in sentence.split(' ')]  # split if string\n",
        "    else:\n",
        "        tokens = [token.lower() for token in sentence]\n",
        "    \n",
        "    # add <bos> and <eos> special tokens to the beginning and to the end\n",
        "    tokens = ['<bos>'] + tokens + ['<eos>']\n",
        "    \n",
        "    # convert tokens to indices\n",
        "    indices = [TEXT.vocab.stoi[token] for token in tokens]\n",
        "    indices = torch.LongTensor(indices).unsqueeze(0).to(device)\n",
        "\n",
        "    # make predictions\n",
        "    with torch.no_grad():\n",
        "        pred = model(indices)\n",
        "        \n",
        "    # extract pos-tags indices from predictions using .argmax(...)\n",
        "    pred_postag_indices = pred.argmax(-1)[0]\n",
        "    \n",
        "    # convert from indices to pos-tags\n",
        "    pred_postags = [POSTAG.vocab.itos[pred_postag_ix] for pred_postag_ix in pred_postag_indices]\n",
        "    \n",
        "    # cut off <bos> and <eos>\n",
        "    tokens = tokens[1:-1]\n",
        "    pred_postags = pred_postags[1:-1]\n",
        "\n",
        "    return tokens, pred_postags\n",
        "\n",
        "\n",
        "def print_predictions(tokens, pred_postags, gt_postags=None):\n",
        "    print(\"===> Input sentence:\", ' '.join(tokens))\n",
        "    print()\n",
        "    \n",
        "    if gt_postags is not None:\n",
        "        print(\"Pred. POS-tag\\tGT POS-tag\\tCorrect?\\tToken\\n\")\n",
        "        for token, pred_postag, gt_postag in zip(tokens, pred_postags, gt_postags):\n",
        "            correct = '✔' if pred_postag == gt_postag else '✘'\n",
        "            print(f\"{pred_postag}\\t\\t{gt_postag}\\t\\t{correct}\\t\\t{token}\")\n",
        "    else:\n",
        "        print(\"Pred. POS-tag\\tToken\\n\")\n",
        "\n",
        "        for token, pred_postag in zip(tokens, pred_postags):\n",
        "            print(f\"{pred_postag}\\t\\t{token}\")\n",
        "    print()"
      ],
      "execution_count": null,
      "outputs": []
    },
    {
      "cell_type": "markdown",
      "metadata": {
        "id": "TIciPmAwj7M_"
      },
      "source": [
        "Sentences from the test set:"
      ]
    },
    {
      "cell_type": "code",
      "metadata": {
        "id": "C_ZsZkDZj7M_"
      },
      "source": [
        "example_index = np.random.randint(0, len(test_data.examples))\n",
        "\n",
        "sentence = test_data.examples[example_index].text\n",
        "gt_postags = test_data.examples[example_index].postag\n",
        "tokens, pred_postags = infer_model(sentence, model, device)\n",
        "\n",
        "print_predictions(tokens, pred_postags, gt_postags)"
      ],
      "execution_count": null,
      "outputs": []
    },
    {
      "cell_type": "markdown",
      "metadata": {
        "id": "ecTpcj7-j7NT"
      },
      "source": [
        "Explore how the trained model works on test sentences:"
      ]
    },
    {
      "cell_type": "code",
      "metadata": {
        "id": "ZxkfTHlxj7NT"
      },
      "source": [
        "example_index = np.random.randint(0, len(test_data.examples))\n",
        "\n",
        "sentence = test_data.examples[example_index].text\n",
        "gt_postags = test_data.examples[example_index].postag\n",
        "tokens, pred_postags = infer_model(sentence, model, device)\n",
        "\n",
        "print_predictions(tokens, pred_postags, gt_postags)"
      ],
      "execution_count": null,
      "outputs": []
    },
    {
      "cell_type": "markdown",
      "metadata": {
        "id": "9R0ta5e3j7NW"
      },
      "source": [
        "And on our own sentences:"
      ]
    },
    {
      "cell_type": "code",
      "metadata": {
        "id": "z5z8BWOZj7NW"
      },
      "source": [
        "sentence = 'I will definitely pass this homework'\n",
        "print_predictions(*infer_model(sentence, model, device))\n",
        "\n",
        "sentence = 'Look , there is a bear'\n",
        "print_predictions(*infer_model(sentence, model, device))\n",
        "\n",
        "sentence = 'I can not bear it anymore'\n",
        "print_predictions(*infer_model(sentence, model, device))"
      ],
      "execution_count": null,
      "outputs": []
    },
    {
      "cell_type": "markdown",
      "metadata": {
        "id": "CjGifM-1muHu"
      },
      "source": [
        "## Report\n",
        "\n",
        "What was the most difficult thing for you in this part?\n"
      ]
    },
    {
      "cell_type": "markdown",
      "metadata": {
        "id": "SiAmDHG2muHv"
      },
      "source": [
        "To understand the theory behind Transformer architecture"
      ]
    },
    {
      "cell_type": "markdown",
      "metadata": {
        "id": "VqF4nRdOmuHv"
      },
      "source": [
        "What was your history of experiments with Transformer? What hyperparameters worked best?"
      ]
    },
    {
      "cell_type": "markdown",
      "metadata": {
        "id": "OWgdOQk-muHv"
      },
      "source": [
        "I tried to experiment with model parameters. \n",
        "First, default parameters: \n",
        "+ hid_dim = 64\n",
        "+ n_layers = 8\n",
        "+ n_heads = 8\n",
        "+ pf_dim = 64\n",
        "+ dropout = .1\n",
        "\n",
        "and some little changes (increase/decrease hidden and PF dimensions, increase dropout, some learing rates: 1e-4, 1e-5, 1e-6). \n",
        "\n",
        "Second, paper best parameters:\n",
        "+ hid_dim = 512\n",
        "+ n_layers = 6\n",
        "+ n_heads = 8\n",
        "+ pf_dim = 2048\n",
        "+ dropout = .1\n",
        "\n",
        "and some little changes (increase/decrease number of layers, increase dropout, some learing rates: 1e-4, 1e-5, 1e-6). \n",
        "\n",
        "The best hyperparameters are the following:\n",
        "+ hid_dim = 64\n",
        "+ n_layers = 8\n",
        "+ n_heads = 8\n",
        "+ pf_dim = 64\n",
        "+ dropout = .1\n",
        "+ lr = 1e-4"
      ]
    },
    {
      "cell_type": "markdown",
      "metadata": {
        "id": "A3ZX_WPAmuHv"
      },
      "source": [
        "Please attach screenshots *(tools to do it: Google Drive, GitHub issues, `IPython.display.Image`, imgur...)* of your logging facility with train and validation loss curves."
      ]
    },
    {
      "cell_type": "markdown",
      "metadata": {
        "id": "Lb99IUKimuHv"
      },
      "source": [
        "![loss.png](data:image/png;base64,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)"
      ]
    },
    {
      "cell_type": "markdown",
      "metadata": {
        "id": "h2JmwQyTj7NX"
      },
      "source": [
        "## Checks\n",
        "\n",
        "* Have you managed to train the Transformer model with the test accuracy **> 85.0%**? <font color='green'>YES</font>\n",
        "\n",
        "\n",
        "* Does your Trasformer correctly tag `bear` as a `VERB` in sentence **\"I can not bear it anymore\"**? <font color='green'>YES</font>\n",
        "\n",
        "* Have you uploaded your `TransformerPOSTagger.pth` to Google Drive and input the checksum? <font color='green'>YES</font>\n",
        "\n",
        "* Have you made sure that everything runs without errors on \"Restart and Run All\" with `DO_TRAIN = False` (in particular, the model is downloaded from Drive, the test accuracy is computed)? <font color='green'>YES</font>\n",
        "\n",
        "\n",
        "* Have you made sure that everything runs without errors on \"Restart and Run All\" with `DO_TRAIN = True`? <font color='green'>YES</font>"
      ]
    },
    {
      "cell_type": "markdown",
      "metadata": {
        "id": "vf3e1Jusj7NY"
      },
      "source": [
        "## Acknowledgements\n",
        "- Author: Karim Iskakov.\n",
        "- Big thanks to Ben Trevett for creating the core part of the Transformer code."
      ]
    }
  ]
}